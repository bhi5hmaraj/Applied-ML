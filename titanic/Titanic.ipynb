{
 "cells": [
  {
   "cell_type": "code",
   "execution_count": 145,
   "metadata": {},
   "outputs": [
    {
     "name": "stdout",
     "output_type": "stream",
     "text": [
      "ascii\n"
     ]
    }
   ],
   "source": [
    "import chardet \n",
    "import pandas as pd\n",
    "import numpy as np\n",
    "\n",
    "with open(\"train.csv\", 'rb') as f:\n",
    "    result = chardet.detect(f.read())  # or readline if the file is large\n",
    "\n",
    "print(result['encoding'])\n",
    "df_raw = pd.read_csv('train.csv', encoding=result['encoding'], delimiter=',')\n",
    "\n"
   ]
  },
  {
   "cell_type": "code",
   "execution_count": 2,
   "metadata": {},
   "outputs": [
    {
     "data": {
      "text/html": [
       "<div>\n",
       "<style scoped>\n",
       "    .dataframe tbody tr th:only-of-type {\n",
       "        vertical-align: middle;\n",
       "    }\n",
       "\n",
       "    .dataframe tbody tr th {\n",
       "        vertical-align: top;\n",
       "    }\n",
       "\n",
       "    .dataframe thead th {\n",
       "        text-align: right;\n",
       "    }\n",
       "</style>\n",
       "<table border=\"1\" class=\"dataframe\">\n",
       "  <thead>\n",
       "    <tr style=\"text-align: right;\">\n",
       "      <th></th>\n",
       "      <th>PassengerId</th>\n",
       "      <th>Survived</th>\n",
       "      <th>Pclass</th>\n",
       "      <th>Age</th>\n",
       "      <th>SibSp</th>\n",
       "      <th>Parch</th>\n",
       "      <th>Fare</th>\n",
       "    </tr>\n",
       "  </thead>\n",
       "  <tbody>\n",
       "    <tr>\n",
       "      <th>count</th>\n",
       "      <td>891.000000</td>\n",
       "      <td>891.000000</td>\n",
       "      <td>891.000000</td>\n",
       "      <td>714.000000</td>\n",
       "      <td>891.000000</td>\n",
       "      <td>891.000000</td>\n",
       "      <td>891.000000</td>\n",
       "    </tr>\n",
       "    <tr>\n",
       "      <th>mean</th>\n",
       "      <td>446.000000</td>\n",
       "      <td>0.383838</td>\n",
       "      <td>2.308642</td>\n",
       "      <td>29.699118</td>\n",
       "      <td>0.523008</td>\n",
       "      <td>0.381594</td>\n",
       "      <td>32.204208</td>\n",
       "    </tr>\n",
       "    <tr>\n",
       "      <th>std</th>\n",
       "      <td>257.353842</td>\n",
       "      <td>0.486592</td>\n",
       "      <td>0.836071</td>\n",
       "      <td>14.526497</td>\n",
       "      <td>1.102743</td>\n",
       "      <td>0.806057</td>\n",
       "      <td>49.693429</td>\n",
       "    </tr>\n",
       "    <tr>\n",
       "      <th>min</th>\n",
       "      <td>1.000000</td>\n",
       "      <td>0.000000</td>\n",
       "      <td>1.000000</td>\n",
       "      <td>0.420000</td>\n",
       "      <td>0.000000</td>\n",
       "      <td>0.000000</td>\n",
       "      <td>0.000000</td>\n",
       "    </tr>\n",
       "    <tr>\n",
       "      <th>25%</th>\n",
       "      <td>223.500000</td>\n",
       "      <td>0.000000</td>\n",
       "      <td>2.000000</td>\n",
       "      <td>20.125000</td>\n",
       "      <td>0.000000</td>\n",
       "      <td>0.000000</td>\n",
       "      <td>7.910400</td>\n",
       "    </tr>\n",
       "    <tr>\n",
       "      <th>50%</th>\n",
       "      <td>446.000000</td>\n",
       "      <td>0.000000</td>\n",
       "      <td>3.000000</td>\n",
       "      <td>28.000000</td>\n",
       "      <td>0.000000</td>\n",
       "      <td>0.000000</td>\n",
       "      <td>14.454200</td>\n",
       "    </tr>\n",
       "    <tr>\n",
       "      <th>75%</th>\n",
       "      <td>668.500000</td>\n",
       "      <td>1.000000</td>\n",
       "      <td>3.000000</td>\n",
       "      <td>38.000000</td>\n",
       "      <td>1.000000</td>\n",
       "      <td>0.000000</td>\n",
       "      <td>31.000000</td>\n",
       "    </tr>\n",
       "    <tr>\n",
       "      <th>max</th>\n",
       "      <td>891.000000</td>\n",
       "      <td>1.000000</td>\n",
       "      <td>3.000000</td>\n",
       "      <td>80.000000</td>\n",
       "      <td>8.000000</td>\n",
       "      <td>6.000000</td>\n",
       "      <td>512.329200</td>\n",
       "    </tr>\n",
       "  </tbody>\n",
       "</table>\n",
       "</div>"
      ],
      "text/plain": [
       "       PassengerId    Survived      Pclass         Age       SibSp  \\\n",
       "count   891.000000  891.000000  891.000000  714.000000  891.000000   \n",
       "mean    446.000000    0.383838    2.308642   29.699118    0.523008   \n",
       "std     257.353842    0.486592    0.836071   14.526497    1.102743   \n",
       "min       1.000000    0.000000    1.000000    0.420000    0.000000   \n",
       "25%     223.500000    0.000000    2.000000   20.125000    0.000000   \n",
       "50%     446.000000    0.000000    3.000000   28.000000    0.000000   \n",
       "75%     668.500000    1.000000    3.000000   38.000000    1.000000   \n",
       "max     891.000000    1.000000    3.000000   80.000000    8.000000   \n",
       "\n",
       "            Parch        Fare  \n",
       "count  891.000000  891.000000  \n",
       "mean     0.381594   32.204208  \n",
       "std      0.806057   49.693429  \n",
       "min      0.000000    0.000000  \n",
       "25%      0.000000    7.910400  \n",
       "50%      0.000000   14.454200  \n",
       "75%      0.000000   31.000000  \n",
       "max      6.000000  512.329200  "
      ]
     },
     "execution_count": 2,
     "metadata": {},
     "output_type": "execute_result"
    }
   ],
   "source": [
    "df_raw.describe()"
   ]
  },
  {
   "cell_type": "code",
   "execution_count": 3,
   "metadata": {},
   "outputs": [],
   "source": [
    "from sklearn.model_selection import train_test_split"
   ]
  },
  {
   "cell_type": "code",
   "execution_count": 146,
   "metadata": {},
   "outputs": [
    {
     "name": "stdout",
     "output_type": "stream",
     "text": [
      "(891, 11)\n"
     ]
    }
   ],
   "source": [
    "\n",
    "X = df_raw.drop(columns=['Survived'])\n",
    "y = df_raw['Survived']\n",
    "\n",
    "print(X.shape)\n",
    "X_train, X_test, y_train, y_test = train_test_split(X, y, random_state=10)"
   ]
  },
  {
   "cell_type": "code",
   "execution_count": 5,
   "metadata": {},
   "outputs": [
    {
     "name": "stdout",
     "output_type": "stream",
     "text": [
      "Shape of X is (891, 11)\n",
      "Shape of X_train is (668, 11) and shape of y_train is (668,)\n",
      "Shape of X_test is (223, 11) and shape of y_test is (223,)\n"
     ]
    }
   ],
   "source": [
    "print(\"Shape of X is {}\".format(X.shape))\n",
    "print(\"Shape of X_train is {} and shape of y_train is {}\".format(X_train.shape, y_train.shape))\n",
    "print(\"Shape of X_test is {} and shape of y_test is {}\".format(X_test.shape, y_test.shape))\n",
    "\n",
    "train_corpus = list(X_train)"
   ]
  },
  {
   "cell_type": "code",
   "execution_count": 6,
   "metadata": {},
   "outputs": [
    {
     "data": {
      "text/html": [
       "<div>\n",
       "<style scoped>\n",
       "    .dataframe tbody tr th:only-of-type {\n",
       "        vertical-align: middle;\n",
       "    }\n",
       "\n",
       "    .dataframe tbody tr th {\n",
       "        vertical-align: top;\n",
       "    }\n",
       "\n",
       "    .dataframe thead th {\n",
       "        text-align: right;\n",
       "    }\n",
       "</style>\n",
       "<table border=\"1\" class=\"dataframe\">\n",
       "  <thead>\n",
       "    <tr style=\"text-align: right;\">\n",
       "      <th></th>\n",
       "      <th>PassengerId</th>\n",
       "      <th>Pclass</th>\n",
       "      <th>Age</th>\n",
       "      <th>SibSp</th>\n",
       "      <th>Parch</th>\n",
       "      <th>Fare</th>\n",
       "    </tr>\n",
       "  </thead>\n",
       "  <tbody>\n",
       "    <tr>\n",
       "      <th>count</th>\n",
       "      <td>668.000000</td>\n",
       "      <td>668.000000</td>\n",
       "      <td>541.000000</td>\n",
       "      <td>668.000000</td>\n",
       "      <td>668.000000</td>\n",
       "      <td>668.000000</td>\n",
       "    </tr>\n",
       "    <tr>\n",
       "      <th>mean</th>\n",
       "      <td>448.967066</td>\n",
       "      <td>2.305389</td>\n",
       "      <td>29.528189</td>\n",
       "      <td>0.535928</td>\n",
       "      <td>0.413174</td>\n",
       "      <td>33.740412</td>\n",
       "    </tr>\n",
       "    <tr>\n",
       "      <th>std</th>\n",
       "      <td>258.757008</td>\n",
       "      <td>0.833789</td>\n",
       "      <td>14.329970</td>\n",
       "      <td>1.164272</td>\n",
       "      <td>0.848284</td>\n",
       "      <td>52.836576</td>\n",
       "    </tr>\n",
       "    <tr>\n",
       "      <th>min</th>\n",
       "      <td>1.000000</td>\n",
       "      <td>1.000000</td>\n",
       "      <td>0.420000</td>\n",
       "      <td>0.000000</td>\n",
       "      <td>0.000000</td>\n",
       "      <td>0.000000</td>\n",
       "    </tr>\n",
       "    <tr>\n",
       "      <th>25%</th>\n",
       "      <td>226.500000</td>\n",
       "      <td>2.000000</td>\n",
       "      <td>21.000000</td>\n",
       "      <td>0.000000</td>\n",
       "      <td>0.000000</td>\n",
       "      <td>7.925000</td>\n",
       "    </tr>\n",
       "    <tr>\n",
       "      <th>50%</th>\n",
       "      <td>458.500000</td>\n",
       "      <td>3.000000</td>\n",
       "      <td>28.000000</td>\n",
       "      <td>0.000000</td>\n",
       "      <td>0.000000</td>\n",
       "      <td>14.500000</td>\n",
       "    </tr>\n",
       "    <tr>\n",
       "      <th>75%</th>\n",
       "      <td>674.250000</td>\n",
       "      <td>3.000000</td>\n",
       "      <td>38.000000</td>\n",
       "      <td>1.000000</td>\n",
       "      <td>1.000000</td>\n",
       "      <td>31.387500</td>\n",
       "    </tr>\n",
       "    <tr>\n",
       "      <th>max</th>\n",
       "      <td>891.000000</td>\n",
       "      <td>3.000000</td>\n",
       "      <td>80.000000</td>\n",
       "      <td>8.000000</td>\n",
       "      <td>6.000000</td>\n",
       "      <td>512.329200</td>\n",
       "    </tr>\n",
       "  </tbody>\n",
       "</table>\n",
       "</div>"
      ],
      "text/plain": [
       "       PassengerId      Pclass         Age       SibSp       Parch        Fare\n",
       "count   668.000000  668.000000  541.000000  668.000000  668.000000  668.000000\n",
       "mean    448.967066    2.305389   29.528189    0.535928    0.413174   33.740412\n",
       "std     258.757008    0.833789   14.329970    1.164272    0.848284   52.836576\n",
       "min       1.000000    1.000000    0.420000    0.000000    0.000000    0.000000\n",
       "25%     226.500000    2.000000   21.000000    0.000000    0.000000    7.925000\n",
       "50%     458.500000    3.000000   28.000000    0.000000    0.000000   14.500000\n",
       "75%     674.250000    3.000000   38.000000    1.000000    1.000000   31.387500\n",
       "max     891.000000    3.000000   80.000000    8.000000    6.000000  512.329200"
      ]
     },
     "execution_count": 6,
     "metadata": {},
     "output_type": "execute_result"
    }
   ],
   "source": [
    "X_train.describe()"
   ]
  },
  {
   "cell_type": "code",
   "execution_count": 148,
   "metadata": {},
   "outputs": [
    {
     "data": {
      "text/plain": [
       "array([[ 0.    ,  3.    ,  1.    , ...,  0.    ,  7.25  ,  0.    ],\n",
       "       [ 1.    ,  1.    ,  0.    , ...,  0.    , 71.2833,  1.    ],\n",
       "       [ 1.    ,  3.    ,  0.    , ...,  0.    ,  7.925 ,  0.    ],\n",
       "       ...,\n",
       "       [ 0.    ,  3.    ,  0.    , ...,  2.    , 23.45  ,  0.    ],\n",
       "       [ 1.    ,  1.    ,  1.    , ...,  0.    , 30.    ,  1.    ],\n",
       "       [ 0.    ,  3.    ,  1.    , ...,  0.    ,  7.75  ,  2.    ]])"
      ]
     },
     "execution_count": 148,
     "metadata": {},
     "output_type": "execute_result"
    }
   ],
   "source": [
    "X"
   ]
  },
  {
   "cell_type": "code",
   "execution_count": 11,
   "metadata": {},
   "outputs": [],
   "source": [
    "g = X_train.groupby(['Pclass','Cabin'])"
   ]
  },
  {
   "cell_type": "code",
   "execution_count": 14,
   "metadata": {},
   "outputs": [
    {
     "data": {
      "text/plain": [
       "714"
      ]
     },
     "execution_count": 14,
     "metadata": {},
     "output_type": "execute_result"
    }
   ],
   "source": [
    "len(list(filter(lambda x : x > 0, df_raw['Age'])))"
   ]
  },
  {
   "cell_type": "code",
   "execution_count": 18,
   "metadata": {},
   "outputs": [],
   "source": [
    "cabins = sorted(map(str,df_raw['Cabin']))"
   ]
  },
  {
   "cell_type": "code",
   "execution_count": 19,
   "metadata": {},
   "outputs": [],
   "source": [
    "import bisect "
   ]
  },
  {
   "cell_type": "code",
   "execution_count": null,
   "metadata": {},
   "outputs": [],
   "source": []
  },
  {
   "cell_type": "code",
   "execution_count": 40,
   "metadata": {},
   "outputs": [
    {
     "data": {
      "text/plain": [
       "687"
      ]
     },
     "execution_count": 40,
     "metadata": {},
     "output_type": "execute_result"
    }
   ],
   "source": [
    "len(list(filter(lambda x : x is np.nan , df_raw['Cabin'])))"
   ]
  },
  {
   "cell_type": "markdown",
   "metadata": {},
   "source": [
    "## Baseline \n",
    "\n",
    "Using random forests on pclass, sex, sibsp, parch, fare, embarked\n"
   ]
  },
  {
   "cell_type": "code",
   "execution_count": 142,
   "metadata": {},
   "outputs": [],
   "source": [
    "from sklearn import preprocessing"
   ]
  },
  {
   "cell_type": "code",
   "execution_count": 130,
   "metadata": {},
   "outputs": [],
   "source": [
    "def baselineVectorizer(df):\n",
    "# leEmbarked.fit(df_raw['Embarked'])\n",
    "    leSex = preprocessing.LabelEncoder()\n",
    "    leEmbarked = preprocessing.LabelEncoder()\n",
    "    leSex.fit(df['Sex'])\n",
    "    leEmbarked.fit(df['Embarked'])\n",
    "    df.fillna(inplace=True, value=0)\n",
    "    df['Embarked'] = leEmbarked.transform(df['Embarked'])\n",
    "#     df['Embarked'] = list(map(lambda x : 0 if x is 'S' else 1 if x is 'C' else 2, df['Embarked']))\n",
    "    df['Sex'] = leSex.transform(df['Sex'])\n",
    "    return df.drop(labels=['PassengerId', 'Name', 'Age', 'Ticket', 'Cabin'], axis=1)"
   ]
  },
  {
   "cell_type": "code",
   "execution_count": 147,
   "metadata": {},
   "outputs": [
    {
     "name": "stdout",
     "output_type": "stream",
     "text": [
      "     PassengerId  Pclass                                               Name  \\\n",
      "0              1       3                            Braund, Mr. Owen Harris   \n",
      "1              2       1  Cumings, Mrs. John Bradley (Florence Briggs Th...   \n",
      "2              3       3                             Heikkinen, Miss. Laina   \n",
      "3              4       1       Futrelle, Mrs. Jacques Heath (Lily May Peel)   \n",
      "4              5       3                           Allen, Mr. William Henry   \n",
      "5              6       3                                   Moran, Mr. James   \n",
      "6              7       1                            McCarthy, Mr. Timothy J   \n",
      "7              8       3                     Palsson, Master. Gosta Leonard   \n",
      "8              9       3  Johnson, Mrs. Oscar W (Elisabeth Vilhelmina Berg)   \n",
      "9             10       2                Nasser, Mrs. Nicholas (Adele Achem)   \n",
      "10            11       3                    Sandstrom, Miss. Marguerite Rut   \n",
      "11            12       1                           Bonnell, Miss. Elizabeth   \n",
      "12            13       3                     Saundercock, Mr. William Henry   \n",
      "13            14       3                        Andersson, Mr. Anders Johan   \n",
      "14            15       3               Vestrom, Miss. Hulda Amanda Adolfina   \n",
      "15            16       2                   Hewlett, Mrs. (Mary D Kingcome)    \n",
      "16            17       3                               Rice, Master. Eugene   \n",
      "17            18       2                       Williams, Mr. Charles Eugene   \n",
      "18            19       3  Vander Planke, Mrs. Julius (Emelia Maria Vande...   \n",
      "19            20       3                            Masselmani, Mrs. Fatima   \n",
      "20            21       2                               Fynney, Mr. Joseph J   \n",
      "21            22       2                              Beesley, Mr. Lawrence   \n",
      "22            23       3                        McGowan, Miss. Anna \"Annie\"   \n",
      "23            24       1                       Sloper, Mr. William Thompson   \n",
      "24            25       3                      Palsson, Miss. Torborg Danira   \n",
      "25            26       3  Asplund, Mrs. Carl Oscar (Selma Augusta Emilia...   \n",
      "26            27       3                            Emir, Mr. Farred Chehab   \n",
      "27            28       1                     Fortune, Mr. Charles Alexander   \n",
      "28            29       3                      O'Dwyer, Miss. Ellen \"Nellie\"   \n",
      "29            30       3                                Todoroff, Mr. Lalio   \n",
      "..           ...     ...                                                ...   \n",
      "861          862       2                        Giles, Mr. Frederick Edward   \n",
      "862          863       1  Swift, Mrs. Frederick Joel (Margaret Welles Ba...   \n",
      "863          864       3                  Sage, Miss. Dorothy Edith \"Dolly\"   \n",
      "864          865       2                             Gill, Mr. John William   \n",
      "865          866       2                           Bystrom, Mrs. (Karolina)   \n",
      "866          867       2                       Duran y More, Miss. Asuncion   \n",
      "867          868       1               Roebling, Mr. Washington Augustus II   \n",
      "868          869       3                        van Melkebeke, Mr. Philemon   \n",
      "869          870       3                    Johnson, Master. Harold Theodor   \n",
      "870          871       3                                  Balkic, Mr. Cerin   \n",
      "871          872       1   Beckwith, Mrs. Richard Leonard (Sallie Monypeny)   \n",
      "872          873       1                           Carlsson, Mr. Frans Olof   \n",
      "873          874       3                        Vander Cruyssen, Mr. Victor   \n",
      "874          875       2              Abelson, Mrs. Samuel (Hannah Wizosky)   \n",
      "875          876       3                   Najib, Miss. Adele Kiamie \"Jane\"   \n",
      "876          877       3                      Gustafsson, Mr. Alfred Ossian   \n",
      "877          878       3                               Petroff, Mr. Nedelio   \n",
      "878          879       3                                 Laleff, Mr. Kristo   \n",
      "879          880       1      Potter, Mrs. Thomas Jr (Lily Alexenia Wilson)   \n",
      "880          881       2       Shelley, Mrs. William (Imanita Parrish Hall)   \n",
      "881          882       3                                 Markun, Mr. Johann   \n",
      "882          883       3                       Dahlberg, Miss. Gerda Ulrika   \n",
      "883          884       2                      Banfield, Mr. Frederick James   \n",
      "884          885       3                             Sutehall, Mr. Henry Jr   \n",
      "885          886       3               Rice, Mrs. William (Margaret Norton)   \n",
      "886          887       2                              Montvila, Rev. Juozas   \n",
      "887          888       1                       Graham, Miss. Margaret Edith   \n",
      "888          889       3           Johnston, Miss. Catherine Helen \"Carrie\"   \n",
      "889          890       1                              Behr, Mr. Karl Howell   \n",
      "890          891       3                                Dooley, Mr. Patrick   \n",
      "\n",
      "        Sex   Age  SibSp  Parch            Ticket      Fare        Cabin  \\\n",
      "0      male  22.0      1      0         A/5 21171    7.2500          NaN   \n",
      "1    female  38.0      1      0          PC 17599   71.2833          C85   \n",
      "2    female  26.0      0      0  STON/O2. 3101282    7.9250          NaN   \n",
      "3    female  35.0      1      0            113803   53.1000         C123   \n",
      "4      male  35.0      0      0            373450    8.0500          NaN   \n",
      "5      male   NaN      0      0            330877    8.4583          NaN   \n",
      "6      male  54.0      0      0             17463   51.8625          E46   \n",
      "7      male   2.0      3      1            349909   21.0750          NaN   \n",
      "8    female  27.0      0      2            347742   11.1333          NaN   \n",
      "9    female  14.0      1      0            237736   30.0708          NaN   \n",
      "10   female   4.0      1      1           PP 9549   16.7000           G6   \n",
      "11   female  58.0      0      0            113783   26.5500         C103   \n",
      "12     male  20.0      0      0         A/5. 2151    8.0500          NaN   \n",
      "13     male  39.0      1      5            347082   31.2750          NaN   \n",
      "14   female  14.0      0      0            350406    7.8542          NaN   \n",
      "15   female  55.0      0      0            248706   16.0000          NaN   \n",
      "16     male   2.0      4      1            382652   29.1250          NaN   \n",
      "17     male   NaN      0      0            244373   13.0000          NaN   \n",
      "18   female  31.0      1      0            345763   18.0000          NaN   \n",
      "19   female   NaN      0      0              2649    7.2250          NaN   \n",
      "20     male  35.0      0      0            239865   26.0000          NaN   \n",
      "21     male  34.0      0      0            248698   13.0000          D56   \n",
      "22   female  15.0      0      0            330923    8.0292          NaN   \n",
      "23     male  28.0      0      0            113788   35.5000           A6   \n",
      "24   female   8.0      3      1            349909   21.0750          NaN   \n",
      "25   female  38.0      1      5            347077   31.3875          NaN   \n",
      "26     male   NaN      0      0              2631    7.2250          NaN   \n",
      "27     male  19.0      3      2             19950  263.0000  C23 C25 C27   \n",
      "28   female   NaN      0      0            330959    7.8792          NaN   \n",
      "29     male   NaN      0      0            349216    7.8958          NaN   \n",
      "..      ...   ...    ...    ...               ...       ...          ...   \n",
      "861    male  21.0      1      0             28134   11.5000          NaN   \n",
      "862  female  48.0      0      0             17466   25.9292          D17   \n",
      "863  female   NaN      8      2          CA. 2343   69.5500          NaN   \n",
      "864    male  24.0      0      0            233866   13.0000          NaN   \n",
      "865  female  42.0      0      0            236852   13.0000          NaN   \n",
      "866  female  27.0      1      0     SC/PARIS 2149   13.8583          NaN   \n",
      "867    male  31.0      0      0          PC 17590   50.4958          A24   \n",
      "868    male   NaN      0      0            345777    9.5000          NaN   \n",
      "869    male   4.0      1      1            347742   11.1333          NaN   \n",
      "870    male  26.0      0      0            349248    7.8958          NaN   \n",
      "871  female  47.0      1      1             11751   52.5542          D35   \n",
      "872    male  33.0      0      0               695    5.0000  B51 B53 B55   \n",
      "873    male  47.0      0      0            345765    9.0000          NaN   \n",
      "874  female  28.0      1      0         P/PP 3381   24.0000          NaN   \n",
      "875  female  15.0      0      0              2667    7.2250          NaN   \n",
      "876    male  20.0      0      0              7534    9.8458          NaN   \n",
      "877    male  19.0      0      0            349212    7.8958          NaN   \n",
      "878    male   NaN      0      0            349217    7.8958          NaN   \n",
      "879  female  56.0      0      1             11767   83.1583          C50   \n",
      "880  female  25.0      0      1            230433   26.0000          NaN   \n",
      "881    male  33.0      0      0            349257    7.8958          NaN   \n",
      "882  female  22.0      0      0              7552   10.5167          NaN   \n",
      "883    male  28.0      0      0  C.A./SOTON 34068   10.5000          NaN   \n",
      "884    male  25.0      0      0   SOTON/OQ 392076    7.0500          NaN   \n",
      "885  female  39.0      0      5            382652   29.1250          NaN   \n",
      "886    male  27.0      0      0            211536   13.0000          NaN   \n",
      "887  female  19.0      0      0            112053   30.0000          B42   \n",
      "888  female   NaN      1      2        W./C. 6607   23.4500          NaN   \n",
      "889    male  26.0      0      0            111369   30.0000         C148   \n",
      "890    male  32.0      0      0            370376    7.7500          NaN   \n",
      "\n",
      "    Embarked  \n",
      "0          S  \n",
      "1          C  \n",
      "2          S  \n",
      "3          S  \n",
      "4          S  \n",
      "5          Q  \n",
      "6          S  \n",
      "7          S  \n",
      "8          S  \n",
      "9          C  \n",
      "10         S  \n",
      "11         S  \n",
      "12         S  \n",
      "13         S  \n",
      "14         S  \n",
      "15         S  \n",
      "16         Q  \n",
      "17         S  \n",
      "18         S  \n",
      "19         C  \n",
      "20         S  \n",
      "21         S  \n",
      "22         Q  \n",
      "23         S  \n",
      "24         S  \n",
      "25         S  \n",
      "26         C  \n",
      "27         S  \n",
      "28         Q  \n",
      "29         S  \n",
      "..       ...  \n",
      "861        S  \n",
      "862        S  \n",
      "863        S  \n",
      "864        S  \n",
      "865        S  \n",
      "866        C  \n",
      "867        S  \n",
      "868        S  \n",
      "869        S  \n",
      "870        S  \n",
      "871        S  \n",
      "872        S  \n",
      "873        S  \n",
      "874        C  \n",
      "875        C  \n",
      "876        S  \n",
      "877        S  \n",
      "878        S  \n",
      "879        C  \n",
      "880        S  \n",
      "881        S  \n",
      "882        S  \n",
      "883        S  \n",
      "884        S  \n",
      "885        Q  \n",
      "886        S  \n",
      "887        S  \n",
      "888        S  \n",
      "889        C  \n",
      "890        Q  \n",
      "\n",
      "[891 rows x 11 columns]\n",
      "(891, 7)\n"
     ]
    }
   ],
   "source": [
    "print(X)\n",
    "X = baselineVectorizer(df_raw)\n",
    "print(X.shape)"
   ]
  },
  {
   "cell_type": "code",
   "execution_count": 71,
   "metadata": {},
   "outputs": [
    {
     "name": "stderr",
     "output_type": "stream",
     "text": [
      "/home/bhishma/anaconda3/lib/python3.7/site-packages/ipykernel_launcher.py:3: SettingWithCopyWarning: \n",
      "A value is trying to be set on a copy of a slice from a DataFrame.\n",
      "Try using .loc[row_indexer,col_indexer] = value instead\n",
      "\n",
      "See the caveats in the documentation: http://pandas.pydata.org/pandas-docs/stable/indexing.html#indexing-view-versus-copy\n",
      "  This is separate from the ipykernel package so we can avoid doing imports until\n",
      "/home/bhishma/anaconda3/lib/python3.7/site-packages/ipykernel_launcher.py:4: SettingWithCopyWarning: \n",
      "A value is trying to be set on a copy of a slice from a DataFrame.\n",
      "Try using .loc[row_indexer,col_indexer] = value instead\n",
      "\n",
      "See the caveats in the documentation: http://pandas.pydata.org/pandas-docs/stable/indexing.html#indexing-view-versus-copy\n",
      "  after removing the cwd from sys.path.\n"
     ]
    },
    {
     "data": {
      "text/plain": [
       "array([[ 3.    ,  1.    ,  0.    ,  0.    ,  7.125 ,  2.    ],\n",
       "       [ 3.    ,  1.    ,  0.    ,  0.    ,  7.05  ,  2.    ],\n",
       "       [ 3.    ,  1.    ,  0.    ,  0.    ,  7.8958,  2.    ],\n",
       "       ...,\n",
       "       [ 2.    ,  0.    ,  0.    ,  0.    , 10.5   ,  2.    ],\n",
       "       [ 2.    ,  1.    ,  0.    ,  0.    , 13.    ,  2.    ],\n",
       "       [ 1.    ,  0.    ,  0.    ,  0.    , 86.5   ,  2.    ]])"
      ]
     },
     "execution_count": 71,
     "metadata": {},
     "output_type": "execute_result"
    }
   ],
   "source": [
    "X_train_b1 = baselineVectorizer(X_train)\n",
    "X_test_b1  = baselineVectorizer(X_test)\n"
   ]
  },
  {
   "cell_type": "code",
   "execution_count": 140,
   "metadata": {},
   "outputs": [
    {
     "name": "stdout",
     "output_type": "stream",
     "text": [
      "(891, 7)\n"
     ]
    },
    {
     "name": "stderr",
     "output_type": "stream",
     "text": [
      "/home/bhishma/anaconda3/lib/python3.7/site-packages/sklearn/linear_model/logistic.py:433: FutureWarning: Default solver will be changed to 'lbfgs' in 0.22. Specify a solver to silence this warning.\n",
      "  FutureWarning)\n"
     ]
    },
    {
     "data": {
      "text/plain": [
       "LogisticRegression(C=1.0, class_weight=None, dual=False, fit_intercept=True,\n",
       "          intercept_scaling=1, max_iter=100, multi_class='warn',\n",
       "          n_jobs=None, penalty='l2', random_state=42, solver='warn',\n",
       "          tol=0.0001, verbose=0, warm_start=False)"
      ]
     },
     "execution_count": 140,
     "metadata": {},
     "output_type": "execute_result"
    }
   ],
   "source": [
    "from sklearn.linear_model import LogisticRegression\n",
    "model = LogisticRegression(random_state=42)\n",
    "\n",
    "print(X.shape)\n",
    "\n",
    "model.fit(X, y)\n",
    "\n",
    "# from sklearn.metrics import accuracy_score, confusion_matrix\n",
    "\n",
    "# y_test_predicted = model.predict(X_test_b1)\n",
    "\n",
    "# print(\"The fraction of correctly classified samples is {}\".format(accuracy_score(y_test, y_test_predicted)))\n",
    "\n",
    "# pd.DataFrame(confusion_matrix(y_test_predicted, y_test), \n",
    "#              index={'true s', 'true ns'}, \n",
    "#              columns={'pred s', 'pred ns'})\n"
   ]
  },
  {
   "cell_type": "code",
   "execution_count": 88,
   "metadata": {},
   "outputs": [
    {
     "name": "stdout",
     "output_type": "stream",
     "text": [
      "[0.80446927 0.80446927 0.78089888 0.76966292 0.81355932]\n"
     ]
    }
   ],
   "source": [
    "from sklearn.model_selection import cross_val_score\n",
    "\n",
    "lr_model = LogisticRegression()\n",
    "cv_scores = cross_val_score(lr_model, X=baselineVectorizer(df_raw), y=y, cv=5, n_jobs=4)\n",
    "print(cv_scores)"
   ]
  },
  {
   "cell_type": "code",
   "execution_count": 81,
   "metadata": {},
   "outputs": [
    {
     "data": {
      "text/plain": [
       "(891, 7)"
      ]
     },
     "execution_count": 81,
     "metadata": {},
     "output_type": "execute_result"
    }
   ],
   "source": [
    "baselineVectorizer(df_raw).shape"
   ]
  },
  {
   "cell_type": "code",
   "execution_count": 135,
   "metadata": {},
   "outputs": [],
   "source": [
    "df_raw_test = pd.read_csv('test.csv')"
   ]
  },
  {
   "cell_type": "markdown",
   "metadata": {},
   "source": []
  },
  {
   "cell_type": "code",
   "execution_count": 136,
   "metadata": {},
   "outputs": [],
   "source": [
    "df_test = baselineVectorizer(df_raw_test)"
   ]
  },
  {
   "cell_type": "code",
   "execution_count": 141,
   "metadata": {},
   "outputs": [
    {
     "ename": "ValueError",
     "evalue": "X has 6 features per sample; expecting 7",
     "output_type": "error",
     "traceback": [
      "\u001b[0;31m---------------------------------------------------------------------------\u001b[0m",
      "\u001b[0;31mValueError\u001b[0m                                Traceback (most recent call last)",
      "\u001b[0;32m<ipython-input-141-04cc47d34a4f>\u001b[0m in \u001b[0;36m<module>\u001b[0;34m\u001b[0m\n\u001b[0;32m----> 1\u001b[0;31m \u001b[0my_test_predicted\u001b[0m \u001b[0;34m=\u001b[0m \u001b[0mmodel\u001b[0m\u001b[0;34m.\u001b[0m\u001b[0mpredict\u001b[0m\u001b[0;34m(\u001b[0m\u001b[0mdf_test\u001b[0m\u001b[0;34m)\u001b[0m\u001b[0;34m\u001b[0m\u001b[0;34m\u001b[0m\u001b[0m\n\u001b[0m",
      "\u001b[0;32m~/anaconda3/lib/python3.7/site-packages/sklearn/linear_model/base.py\u001b[0m in \u001b[0;36mpredict\u001b[0;34m(self, X)\u001b[0m\n\u001b[1;32m    279\u001b[0m             \u001b[0mPredicted\u001b[0m \u001b[0;32mclass\u001b[0m \u001b[0mlabel\u001b[0m \u001b[0mper\u001b[0m \u001b[0msample\u001b[0m\u001b[0;34m.\u001b[0m\u001b[0;34m\u001b[0m\u001b[0;34m\u001b[0m\u001b[0m\n\u001b[1;32m    280\u001b[0m         \"\"\"\n\u001b[0;32m--> 281\u001b[0;31m         \u001b[0mscores\u001b[0m \u001b[0;34m=\u001b[0m \u001b[0mself\u001b[0m\u001b[0;34m.\u001b[0m\u001b[0mdecision_function\u001b[0m\u001b[0;34m(\u001b[0m\u001b[0mX\u001b[0m\u001b[0;34m)\u001b[0m\u001b[0;34m\u001b[0m\u001b[0;34m\u001b[0m\u001b[0m\n\u001b[0m\u001b[1;32m    282\u001b[0m         \u001b[0;32mif\u001b[0m \u001b[0mlen\u001b[0m\u001b[0;34m(\u001b[0m\u001b[0mscores\u001b[0m\u001b[0;34m.\u001b[0m\u001b[0mshape\u001b[0m\u001b[0;34m)\u001b[0m \u001b[0;34m==\u001b[0m \u001b[0;36m1\u001b[0m\u001b[0;34m:\u001b[0m\u001b[0;34m\u001b[0m\u001b[0;34m\u001b[0m\u001b[0m\n\u001b[1;32m    283\u001b[0m             \u001b[0mindices\u001b[0m \u001b[0;34m=\u001b[0m \u001b[0;34m(\u001b[0m\u001b[0mscores\u001b[0m \u001b[0;34m>\u001b[0m \u001b[0;36m0\u001b[0m\u001b[0;34m)\u001b[0m\u001b[0;34m.\u001b[0m\u001b[0mastype\u001b[0m\u001b[0;34m(\u001b[0m\u001b[0mnp\u001b[0m\u001b[0;34m.\u001b[0m\u001b[0mint\u001b[0m\u001b[0;34m)\u001b[0m\u001b[0;34m\u001b[0m\u001b[0;34m\u001b[0m\u001b[0m\n",
      "\u001b[0;32m~/anaconda3/lib/python3.7/site-packages/sklearn/linear_model/base.py\u001b[0m in \u001b[0;36mdecision_function\u001b[0;34m(self, X)\u001b[0m\n\u001b[1;32m    260\u001b[0m         \u001b[0;32mif\u001b[0m \u001b[0mX\u001b[0m\u001b[0;34m.\u001b[0m\u001b[0mshape\u001b[0m\u001b[0;34m[\u001b[0m\u001b[0;36m1\u001b[0m\u001b[0;34m]\u001b[0m \u001b[0;34m!=\u001b[0m \u001b[0mn_features\u001b[0m\u001b[0;34m:\u001b[0m\u001b[0;34m\u001b[0m\u001b[0;34m\u001b[0m\u001b[0m\n\u001b[1;32m    261\u001b[0m             raise ValueError(\"X has %d features per sample; expecting %d\"\n\u001b[0;32m--> 262\u001b[0;31m                              % (X.shape[1], n_features))\n\u001b[0m\u001b[1;32m    263\u001b[0m \u001b[0;34m\u001b[0m\u001b[0m\n\u001b[1;32m    264\u001b[0m         scores = safe_sparse_dot(X, self.coef_.T,\n",
      "\u001b[0;31mValueError\u001b[0m: X has 6 features per sample; expecting 7"
     ]
    }
   ],
   "source": [
    "y_test_predicted = model.predict(df_test)"
   ]
  },
  {
   "cell_type": "code",
   "execution_count": null,
   "metadata": {},
   "outputs": [],
   "source": []
  }
 ],
 "metadata": {
  "kernelspec": {
   "display_name": "Python 3",
   "language": "python",
   "name": "python3"
  },
  "language_info": {
   "codemirror_mode": {
    "name": "ipython",
    "version": 3
   },
   "file_extension": ".py",
   "mimetype": "text/x-python",
   "name": "python",
   "nbconvert_exporter": "python",
   "pygments_lexer": "ipython3",
   "version": "3.7.1"
  }
 },
 "nbformat": 4,
 "nbformat_minor": 2
}
